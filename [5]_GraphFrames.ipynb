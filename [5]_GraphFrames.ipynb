{
  "cells": [
    {
      "cell_type": "markdown",
      "source": [
        "### Katarzyna Główczyk"
      ],
      "metadata": {}
    },
    {
      "cell_type": "code",
      "source": [
        "from pyspark.sql import DataFrame\n",
        "from graphframes import graphframe\n",
        "from pyspark.shell import spark"
      ],
      "outputs": [
        {
          "output_type": "stream",
          "name": "stdout",
          "text": "Welcome to\n      ____              __\n     / __/__  ___ _____/ /__\n    _\\ \\/ _ \\/ _ `/ __/  '_/\n   /__ / .__/\\_,_/_/ /_/\\_\\   version 3.5.0\n      /_/\n\nUsing Python version 3.11.6 (main, Oct  3 2023 10:40:35)\nSpark context Web UI available at http://be74838d2d01:4040\nSpark context available as 'sc' (master = local[*], app id = local-1732835687936).\nSparkSession available as 'spark'.\n"
        }
      ],
      "execution_count": 1,
      "metadata": {
        "ExecuteTime": {
          "end_time": "2023-11-23T22:24:47.380028Z",
          "start_time": "2023-11-23T22:24:45.489084Z"
        },
        "collapsed": false,
        "jupyter": {
          "outputs_hidden": false
        }
      }
    },
    {
      "cell_type": "markdown",
      "source": [
        "### 1\n",
        "Wczytać graf Facebooka, krawędzie z pliku musae_facebook_edges.csv, atrybuty page_name oraz page_type z pliku musae_facebook_target.csv.  Policzyć liczbę krawędzi i wierzchołków. (1 p.)"
      ],
      "metadata": {
        "collapsed": false,
        "jupyter": {
          "outputs_hidden": false
        }
      }
    },
    {
      "cell_type": "code",
      "source": [
        "from pyspark.sql import SparkSession\n",
        "from graphframes import GraphFrame\n",
        "\n",
        "spark = SparkSession.builder.appName(\"FacebookGraph\").getOrCreate()"
      ],
      "outputs": [],
      "execution_count": 2,
      "metadata": {}
    },
    {
      "cell_type": "code",
      "source": [
        "attributes = spark.read.csv(\"facebook_large/musae_facebook_target.csv\", header=True, inferSchema=True).select(\"id\", \"page_name\", \"page_type\")\n",
        "attributes"
      ],
      "outputs": [
        {
          "output_type": "execute_result",
          "execution_count": 3,
          "data": {
            "text/plain": "DataFrame[id: int, page_name: string, page_type: string]"
          },
          "metadata": {}
        }
      ],
      "execution_count": 3,
      "metadata": {}
    },
    {
      "cell_type": "code",
      "source": [
        "edges = spark.read.csv(\"facebook_large/musae_facebook_edges.csv\", header=True, inferSchema=True)\n",
        "edges = edges.withColumnRenamed(\"id_1\", \"src\").withColumnRenamed(\"id_2\", \"dst\")\n",
        "edges"
      ],
      "outputs": [
        {
          "output_type": "execute_result",
          "execution_count": 4,
          "data": {
            "text/plain": "DataFrame[src: int, dst: int]"
          },
          "metadata": {}
        }
      ],
      "execution_count": 4,
      "metadata": {}
    },
    {
      "cell_type": "code",
      "source": [
        "g = GraphFrame(attributes, edges)"
      ],
      "outputs": [],
      "execution_count": 5,
      "metadata": {}
    },
    {
      "cell_type": "code",
      "source": [
        "num_vertices = g.vertices.count()\n",
        "num_edges = g.edges.count()\n",
        "\n",
        "print(f\"Number of vertices: {num_vertices}\")\n",
        "print(f\"Number of edges: {num_edges}\")"
      ],
      "outputs": [
        {
          "output_type": "stream",
          "name": "stdout",
          "text": "Number of vertices: 22470\nNumber of edges: 171002\n"
        }
      ],
      "execution_count": 6,
      "metadata": {}
    },
    {
      "cell_type": "markdown",
      "source": [
        "### 2\n",
        "Sprawdzić czy graf jest spójny. Czy dwa podgrafy utworzone dla typów strony governmental organizations oraz television shows też są spójne? (1 p.)"
      ],
      "metadata": {
        "collapsed": false,
        "jupyter": {
          "outputs_hidden": false
        }
      }
    },
    {
      "cell_type": "code",
      "source": [
        "spark.sparkContext.setCheckpointDir(\"/tmp/graphframes-example-connected-components\")"
      ],
      "outputs": [],
      "execution_count": 7,
      "metadata": {
        "collapsed": false,
        "jupyter": {
          "outputs_hidden": false
        }
      }
    },
    {
      "cell_type": "code",
      "source": [
        "def is_graph_consistent(graph):\n",
        "    connected_components = graph.connectedComponents()\n",
        "    cc=connected_components.select(\"component\").distinct().count()\n",
        "    return cc == 1, cc"
      ],
      "outputs": [],
      "execution_count": 8,
      "metadata": {}
    },
    {
      "cell_type": "code",
      "source": [
        "is_graph_consistent(g)"
      ],
      "outputs": [
        {
          "output_type": "execute_result",
          "execution_count": 9,
          "data": {
            "text/plain": "(True, 1)"
          },
          "metadata": {}
        }
      ],
      "execution_count": 9,
      "metadata": {}
    },
    {
      "cell_type": "code",
      "source": [
        "def is_subgraph_consistent(graph, page_type):\n",
        "    subgraph = graph.filterVertices(f\"page_type = '{page_type}'\")\n",
        "    return is_graph_consistent(subgraph)"
      ],
      "outputs": [],
      "execution_count": 10,
      "metadata": {}
    },
    {
      "cell_type": "code",
      "source": [
        "is_subgraph_consistent(g, \"government\")"
      ],
      "outputs": [
        {
          "output_type": "execute_result",
          "execution_count": 11,
          "data": {
            "text/plain": "(False, 57)"
          },
          "metadata": {}
        }
      ],
      "execution_count": 11,
      "metadata": {}
    },
    {
      "cell_type": "code",
      "source": [
        "is_subgraph_consistent(g, \"tvshow\")"
      ],
      "outputs": [
        {
          "output_type": "execute_result",
          "execution_count": 12,
          "data": {
            "text/plain": "(False, 71)"
          },
          "metadata": {}
        }
      ],
      "execution_count": 12,
      "metadata": {}
    },
    {
      "cell_type": "markdown",
      "source": [
        "Cały graf jest spójny, co oznacza, że istnieje ścieżka pomiędzy dowolnymi dwoma wierzchołkami (True, 1). Natomiast podgraf utworzony dla stron typu governmental organizations składa się z 57 spójnych składowych, a podgraf dla television shows z 71 spójnych składowych, co oznacza, że oba te podgrafy nie są spójne."
      ],
      "metadata": {}
    },
    {
      "cell_type": "markdown",
      "source": [
        "### 3\n",
        "Spośród 1000 stron o najwyższym PageRank znaleźć 50 takich (wypisać page_name i page_type), które mają najmniej połączeń oraz 50 o największej liczbie połączeń. Który typ strony był dominujący w każdej z tych kategorii? Narysować wykres zależności PageRank od liczby krawędzi dla wierzchołków (scatter plot) (2 p.)"
      ],
      "metadata": {
        "collapsed": false,
        "jupyter": {
          "outputs_hidden": false
        }
      }
    },
    {
      "cell_type": "code",
      "source": [
        "import pyspark.sql.functions as F"
      ],
      "outputs": [],
      "execution_count": 13,
      "metadata": {
        "collapsed": false,
        "jupyter": {
          "outputs_hidden": false
        }
      }
    },
    {
      "cell_type": "code",
      "source": [
        "degrees = (\n",
        "    edges.groupBy(\"src\").agg(F.count(\"*\").alias(\"degree\"))\n",
        ")\n",
        "degrees.select('src','degree').show(truncate=False)"
      ],
      "outputs": [
        {
          "output_type": "stream",
          "name": "stdout",
          "text": "+-----+------+\n|src  |degree|\n+-----+------+\n|148  |10    |\n|463  |8     |\n|471  |1     |\n|496  |237   |\n|18800|11    |\n|833  |35    |\n|5300 |16    |\n|1088 |3     |\n|1238 |1     |\n|1342 |16    |\n|1580 |1     |\n|1591 |5     |\n|1645 |3     |\n|1829 |12    |\n|2122 |1     |\n|2142 |13    |\n|4101 |2     |\n|2366 |10    |\n|2659 |4     |\n|2866 |1     |\n+-----+------+\nonly showing top 20 rows\n\n"
        }
      ],
      "execution_count": 14,
      "metadata": {}
    },
    {
      "cell_type": "code",
      "source": [
        "attributes_with_degree = (\n",
        "    attributes.join(degrees, attributes[\"id\"] == degrees[\"src\"], \"left_outer\")\n",
        ")"
      ],
      "outputs": [],
      "execution_count": 15,
      "metadata": {}
    },
    {
      "cell_type": "code",
      "source": [
        "from pyspark.sql.functions import coalesce\n",
        "\n",
        "attributes_with_degree = attributes_with_degree.withColumn(\"src\", coalesce(attributes_with_degree[\"src\"], attributes_with_degree[\"id\"]))\n",
        "attributes_with_degree = attributes_with_degree.na.fill(0, subset=[\"degree\"])"
      ],
      "outputs": [],
      "execution_count": 16,
      "metadata": {}
    },
    {
      "cell_type": "code",
      "source": [
        "attributes_with_degree.select('*').show(truncate=False)"
      ],
      "outputs": [
        {
          "output_type": "stream",
          "name": "stdout",
          "text": "+---+--------------------------------------------+----------+---+------+\n|id |page_name                                   |page_type |src|degree|\n+---+--------------------------------------------+----------+---+------+\n|0  |The Voice of China 中国好声音               |tvshow    |0  |1     |\n|1  |U.S. Consulate General Mumbai               |government|1  |34    |\n|2  |ESET                                        |company   |2  |12    |\n|3  |Consulate General of Switzerland in Montreal|government|3  |10    |\n|4  |Mark Bailey MP - Labor for Miller           |politician|4  |51    |\n|5  |Victor Dominello MP                         |politician|5  |22    |\n|6  |Jean-Claude Poissant                        |politician|6  |16    |\n|7  |Deputado Ademir Camilo                      |politician|7  |3     |\n|8  |T.C. Mezar-ı Şerif Başkonsolosluğu          |government|8  |3     |\n|9  |Army ROTC Fighting Saints Battalion         |government|9  |2     |\n|10 |NASA Student Launch                         |government|10 |3     |\n|11 |Eliziane Gama                               |politician|11 |4     |\n|12 |Socialstyrelsen                             |government|12 |6     |\n|13 |Brisbane Water LAC - NSW Police Force       |government|13 |17    |\n|14 |NASA's Marshall Space Flight Center         |government|14 |54    |\n|15 |Municipio de Lomas de Zamora                |government|15 |3     |\n|16 |Die Techniker (TK)                          |company   |16 |1     |\n|17 |Digvijaya Singh                             |politician|17 |4     |\n|18 |1st Armored Division Sustainment Brigade    |government|18 |38    |\n|19 |Shapeways                                   |company   |19 |13    |\n+---+--------------------------------------------+----------+---+------+\nonly showing top 20 rows\n\n"
        }
      ],
      "execution_count": 17,
      "metadata": {}
    },
    {
      "cell_type": "code",
      "source": [
        "g2 = GraphFrame(attributes_with_degree, edges)"
      ],
      "outputs": [],
      "execution_count": 18,
      "metadata": {}
    },
    {
      "cell_type": "code",
      "source": [
        "results = g2.pageRank(resetProbability=0.15, tol=0.01)\n",
        "display(results.vertices)"
      ],
      "outputs": [
        {
          "output_type": "display_data",
          "data": {
            "text/plain": "DataFrame[id: int, page_name: string, page_type: string, src: int, degree: bigint, pagerank: double]"
          },
          "metadata": {}
        }
      ],
      "execution_count": 19,
      "metadata": {}
    },
    {
      "cell_type": "code",
      "source": [
        "top_1000_pagerank = results.vertices.orderBy(\"pagerank\", ascending=False).limit(1000)"
      ],
      "outputs": [],
      "execution_count": 20,
      "metadata": {}
    },
    {
      "cell_type": "code",
      "source": [
        "top_50_degree = top_1000_pagerank.orderBy(F.desc(\"degree\")).limit(50)\n",
        "top_50_degree.select('*').show(truncate=False)"
      ],
      "outputs": [
        {
          "output_type": "stream",
          "name": "stdout",
          "text": "+-----+----------------------------------------------------+----------+-----+------+------------------+\n|id   |page_name                                           |page_type |src  |degree|pagerank          |\n+-----+----------------------------------------------------+----------+-----+------+------------------+\n|14497|U.S. Army Chaplain Corps                            |government|14497|220   |16.067926524867406|\n|11003|Barack Obama                                        |politician|11003|180   |8.284463388548275 |\n|11332|NASA - National Aeronautics and Space Administration|company   |11332|177   |3.474377784934516 |\n|16895|U.S. Army                                           |government|16895|158   |20.389454189549   |\n|21120|European Parliament                                 |government|21120|146   |10.028994274018666|\n|13294|European Commission                                 |government|13294|129   |6.010924840327058 |\n|14650|Manfred Weber                                       |politician|14650|128   |11.34687535566032 |\n|15236|United States Air Force                             |government|15236|128   |6.775588302996986 |\n|10426|Los Angeles District, U.S. Army Corps of Engineers  |government|10426|122   |6.913146797711866 |\n|10379|U.S. Department of State                            |government|10379|94    |12.205298376835026|\n|14181|USAID - US Agency for International Development     |government|14181|90    |3.8233189528284046|\n|15531|Army Sustainment                                    |government|15531|87    |6.45525536058531  |\n|19743|The White House                                     |government|19743|73    |34.25868600328374 |\n|16052|Senate of Canada - Sénat du Canada                  |government|16052|71    |8.812891141154093 |\n|13098|European Committee of the Regions                   |government|13098|71    |4.486678973520566 |\n|15174|U.S. Army Command and General Staff College         |government|15174|70    |3.768027316678794 |\n|16869|CDC                                                 |government|16869|67    |11.07739941139693 |\n|19347|FEMA Federal Emergency Management Agency            |government|19347|63    |25.25648300930411 |\n|11657|U.S. Embassy in Mozambique                          |government|11657|63    |3.425537997004654 |\n|16977|U.S. Army Europe                                    |government|16977|60    |6.56225939436319  |\n+-----+----------------------------------------------------+----------+-----+------+------------------+\nonly showing top 20 rows\n\n"
        }
      ],
      "execution_count": 21,
      "metadata": {}
    },
    {
      "cell_type": "code",
      "source": [
        "dominant_type_top = top_50_degree.groupBy(\"page_type\").agg(F.count(\"*\").alias(\"count\")).orderBy(F.desc(\"count\")).limit(1)\n",
        "dominant_type_top.show()"
      ],
      "outputs": [
        {
          "output_type": "stream",
          "name": "stdout",
          "text": "+----------+-----+\n| page_type|count|\n+----------+-----+\n|government|   37|\n+----------+-----+\n\n"
        }
      ],
      "execution_count": 22,
      "metadata": {}
    },
    {
      "cell_type": "code",
      "source": [
        "low_50_degree = top_1000_pagerank.orderBy(F.asc(\"degree\")).filter(\"degree >= 0\").limit(50)\n",
        "low_50_degree.select('*').show(truncate=False)"
      ],
      "outputs": [
        {
          "output_type": "stream",
          "name": "stdout",
          "text": "+-----+------------------------------------------+----------+-----+------+------------------+\n|id   |page_name                                 |page_type |src  |degree|pagerank          |\n+-----+------------------------------------------+----------+-----+------+------------------+\n|22207|Digicel                                   |company   |22207|0     |17.45798688821351 |\n|22380|王定宇                                    |politician|22380|0     |12.199358938764433|\n|21758|Archivo General                           |government|21758|0     |17.01526421194011 |\n|22208|U.S. Department of State: Consular Affairs|government|22208|0     |66.3374736440113  |\n|21681|Son of Zorn                               |tvshow    |21681|0     |16.63478878408979 |\n|22440|City of Los Altos Police Department       |government|22440|0     |54.630144664599754|\n|22317|Dalila Nesci                              |politician|22317|0     |15.886122521624204|\n|22438|Federica Mogherini                        |politician|22438|0     |47.326457440485   |\n|22266|The Singapore Army                        |government|22266|0     |15.354711713134858|\n|22403|Dr. Hedy Fry                              |politician|22403|0     |35.97912442956792 |\n|22130|Justin Amash                              |politician|22130|0     |14.22103845736258 |\n|22349|21st Theater Sustainment Command          |government|22349|0     |30.17523992424205 |\n|22460|US National Weather Service Amarillo Texas|government|22460|0     |13.953723521607591|\n|20510|Bruce Notley-Smith MP                     |politician|20510|0     |28.33734158119115 |\n|22094|Consulat général du Canada à Miami        |government|22094|0     |13.923506158756433|\n|21750|Chobani                                   |company   |21750|0     |27.26795854557848 |\n|22144|MasterChef Australia                      |tvshow    |22144|0     |13.786502774481201|\n|21767|South Park                                |tvshow    |21767|0     |22.609934571849156|\n|22280|Israel en Argentina                       |government|22280|0     |13.73536076254289 |\n|22252|U.S. Army School of Music                 |government|22252|0     |20.547005048281584|\n+-----+------------------------------------------+----------+-----+------+------------------+\nonly showing top 20 rows\n\n"
        }
      ],
      "execution_count": 23,
      "metadata": {}
    },
    {
      "cell_type": "code",
      "source": [
        "dominant_type_low = low_50_degree.groupBy(\"page_type\").agg(F.count(\"*\").alias(\"count\")).orderBy(F.desc(\"count\")).limit(1)\n",
        "dominant_type_low.show()"
      ],
      "outputs": [
        {
          "output_type": "stream",
          "name": "stdout",
          "text": "+----------+-----+\n| page_type|count|\n+----------+-----+\n|government|   24|\n+----------+-----+\n\n"
        }
      ],
      "execution_count": 24,
      "metadata": {}
    },
    {
      "cell_type": "code",
      "source": [
        "import matplotlib.pyplot as plt\n",
        "\n",
        "x = top_1000_pagerank.select(\"degree\").collect()\n",
        "y = top_1000_pagerank.select(\"pagerank\").collect()\n",
        "\n",
        "plt.scatter(x, y, alpha=0.5)\n",
        "plt.xlabel('Degree')\n",
        "plt.ylabel('PageRank')\n",
        "plt.show()"
      ],
      "outputs": [
        {
          "output_type": "display_data",
          "data": {
            "image/png": "[encoded data removed]",
            "text/plain": "<Figure size 640x480 with 1 Axes>"
          },
          "metadata": {}
        }
      ],
      "execution_count": 25,
      "metadata": {}
    },
    {
      "cell_type": "markdown",
      "source": [
        "Strony typu government są dominujące w analizowanym grafie, zarówno wśród najbardziej, jak i najmniej połączonych wierzchołków. Wykres sugeruje, że PageRank nie zawsze jest proporcjonalny do degree i zależy od struktury połączeń oraz ich jakości (kontekstu w grafie)."
      ],
      "metadata": {}
    },
    {
      "cell_type": "markdown",
      "source": [
        "### 4\n",
        "Korzystając z Pregel API zaimplementować następujący algorytm. W pierwszym kroku wybrana strona publikuje post fake news. W kolejnym kroku ten post publikowany jest przez 1/4 losowo wybranych kontaktów tej strony. W dalszych krokach, dla każdej strony, która opublikowała już ten post, losowo wybrane 1/4 jej kontaktów publikuje go u siebie. Pokazać jak zmienia się liczba stron które opublikowały post w zależności od liczby kroków. (2 p.)\n",
        "Opcjonalnie: Sprawdzić powyższą zależność dla współczynnika innego niż 1/4."
      ],
      "metadata": {
        "collapsed": false,
        "jupyter": {
          "outputs_hidden": false
        }
      }
    },
    {
      "cell_type": "code",
      "source": [
        "spark.sparkContext.setCheckpointDir('checkpoints3')\n",
        "\n",
        "print(\"Attributes:\")\n",
        "attributes.show(5)\n",
        "print(\"Edges:\")\n",
        "edges.show(5)"
      ],
      "outputs": [
        {
          "output_type": "stream",
          "name": "stdout",
          "text": "Attributes:\n+---+--------------------+----------+\n| id|           page_name| page_type|\n+---+--------------------+----------+\n|  0|The Voice of Chin...|    tvshow|\n|  1|U.S. Consulate Ge...|government|\n|  2|                ESET|   company|\n|  3|Consulate General...|government|\n|  4|Mark Bailey MP - ...|politician|\n+---+--------------------+----------+\nonly showing top 5 rows\n\nEdges:\n+---+-----+\n|src|  dst|\n+---+-----+\n|  0|18427|\n|  1|21708|\n|  1|22208|\n|  1|22171|\n|  1| 6829|\n+---+-----+\nonly showing top 5 rows\n\n"
        }
      ],
      "execution_count": 26,
      "metadata": {}
    },
    {
      "cell_type": "code",
      "source": [
        "from pyspark.sql.types import IntegerType\n",
        "from graphframes.lib import Pregel\n",
        "import random\n",
        "import seaborn as sns\n",
        "import matplotlib.pyplot as plt\n",
        "from tqdm import tqdm\n",
        "\n",
        "# Filtruje dane, aby sprawdzić, czy wierzchołek o ID 12756 istnieje\n",
        "# W tym przypadku zakładamy, że jest to strona, która publikuje pierwszy post\n",
        "attributes.filter(F.col('id') == '12756').collect()\n",
        "\n",
        "spark.sparkContext.setCheckpointDir('checkpoints3')\n",
        "\n",
        "P = 1/4\n",
        "\n",
        "# Funkcja określająca, czy wierzchołek repostuje fake news\n",
        "# Wylicza prawdopodobieństwo repostu w zależności od liczby otrzymanych postów.\n",
        "# - prob: 1 - (1 - P)^seen_posts -> prawdopodobieństwo przynajmniej jednego sukcesu.\n",
        "# - random.random(): generuje liczbę losową z zakresu [0, 1].\n",
        "# Zwraca True, jeśli post zostanie opublikowany, False w przeciwnym przypadku.\n",
        "def reposted(seen_posts: int) -> bool:\n",
        "    prob = 1 - (1 - P) ** seen_posts\n",
        "    return random.random() < prob\n",
        "\n",
        "# Rejestracja funkcji jako UDF (User-Defined Function), aby można było jej używać w Spark\n",
        "reposted_udf = F.udf(reposted, 'boolean')\n",
        "\n",
        "# Symulacja procesu rozprzestrzeniania fake news przy użyciu Pregel API\n",
        "sim = g.pregel \\\n",
        "    .setMaxIter(10) \\\n",
        "    .withVertexColumn('posted',\n",
        "                      F.when(F.col('id') == '12756', True).otherwise(False),\n",
        "                      F.coalesce(Pregel.msg() | F.col('posted'), F.col('posted'))) \\\n",
        "    .sendMsgToSrc(Pregel.dst('posted')) \\\n",
        "    .aggMsgs(\n",
        "        reposted(\n",
        "            F.sum(\n",
        "                Pregel.msg().cast('int')\n",
        "            )\n",
        "        )\n",
        "    ) \\\n",
        "    .run()\n",
        "\n",
        "# Lista przechowująca liczbę wierzchołków, które opublikowały post w każdej iteracji\n",
        "posted = []\n",
        "iters = list(range(1, 15))\n",
        "# Iteracyjna analiza liczby publikujących wierzchołków\n",
        "for it in tqdm(iters):\n",
        "    count = 1 # Liczba wierzchołków publikujących\n",
        "    while count <= 1: # Gwarancja, że przynajmniej jeden wierzchołek publikuje (dla stabilności symulacji)\n",
        "        sim = g.pregel \\\n",
        "            .setMaxIter(it) \\\n",
        "            .withVertexColumn('posted',\n",
        "                              F.when(F.col('id') == '12756', True).otherwise(False),\n",
        "                              F.coalesce(Pregel.msg() | F.col('posted'), F.col('posted'))) \\\n",
        "            .sendMsgToSrc(Pregel.dst('posted')) \\\n",
        "            .aggMsgs(\n",
        "                reposted(\n",
        "                    F.sum(\n",
        "                        Pregel.msg().cast('int')\n",
        "                    )\n",
        "                )\n",
        "            ) \\\n",
        "            .run()\n",
        "\n",
        "        count = sim.filter(F.col('posted') == True).count()\n",
        "    posted.append(count)\n",
        "\n",
        "sns.scatterplot(x=iters, y=posted)"
      ],
      "outputs": [
        {
          "output_type": "stream",
          "name": "stderr",
          "text": "100%|██████████| 14/14 [12:40<00:00, 54.35s/it] \n"
        },
        {
          "output_type": "execute_result",
          "execution_count": 36,
          "data": {
            "text/plain": "<Axes: >"
          },
          "metadata": {}
        },
        {
          "output_type": "display_data",
          "data": {
            "image/png": "[encoded data removed]",
            "text/plain": "<Figure size 640x480 with 1 Axes>"
          },
          "metadata": {}
        }
      ],
      "execution_count": 36,
      "metadata": {}
    },
    {
      "cell_type": "markdown",
      "source": [
        "### 5\n",
        "Narysować wykres rozkładu stopnia wierzchołków w grafie w skali logarytmicznej. Można skorzystać z metody stat.approxQuantile. Czy sieć jest bezskalowa (scale-free)? https://barabasi.com/f/623.pdf  (2 p.)"
      ],
      "metadata": {
        "collapsed": false,
        "jupyter": {
          "outputs_hidden": false
        }
      }
    },
    {
      "cell_type": "code",
      "source": [
        "import numpy as np\n",
        "\n",
        "degrees_data = degrees.select(\"degree\").collect()\n",
        "degrees_values = [row[\"degree\"] for row in degrees_data]\n",
        "\n",
        "plt.hist(degrees_values, bins=20, log=True, edgecolor=\"black\")\n",
        "plt.xlabel('Stopień wierzchołka')\n",
        "plt.ylabel('Liczba wierzchołków (log)')\n",
        "plt.show()"
      ],
      "outputs": [
        {
          "output_type": "display_data",
          "data": {
            "image/png": "[encoded data removed]",
            "text/plain": "<Figure size 640x480 with 1 Axes>"
          },
          "metadata": {}
        }
      ],
      "execution_count": 37,
      "metadata": {
        "collapsed": false,
        "jupyter": {
          "outputs_hidden": false
        }
      }
    },
    {
      "cell_type": "markdown",
      "source": [
        "Histogram pokazuje, że większość wierzchołków ma niski stopień (połączenia), co jest typowe dla sieci bezskalowych."
      ],
      "metadata": {}
    },
    {
      "cell_type": "code",
      "source": [],
      "outputs": [],
      "execution_count": null,
      "metadata": {}
    }
  ],
  "metadata": {
    "kernelspec": {
      "name": "python",
      "language": "python",
      "display_name": "Pyolite (preview)"
    },
    "language_info": {
      "codemirror_mode": {
        "name": "python",
        "version": 3
      },
      "file_extension": ".py",
      "mimetype": "text/x-python",
      "name": "python",
      "nbconvert_exporter": "python",
      "pygments_lexer": "ipython3",
      "version": "3.8"
    },
    "kernel_info": {
      "name": "python"
    },
    "nteract": {
      "version": "nteract-front-end@1.0.0"
    }
  },
  "nbformat": 4,
  "nbformat_minor": 4
}